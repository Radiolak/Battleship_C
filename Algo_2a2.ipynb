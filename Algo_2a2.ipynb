{
  "nbformat": 4,
  "nbformat_minor": 0,
  "metadata": {
    "colab": {
      "provenance": [],
      "include_colab_link": true
    },
    "kernelspec": {
      "name": "python3",
      "display_name": "Python 3"
    },
    "language_info": {
      "name": "python"
    }
  },
  "cells": [
    {
      "cell_type": "markdown",
      "metadata": {
        "id": "view-in-github",
        "colab_type": "text"
      },
      "source": [
        "<a href=\"https://colab.research.google.com/github/Radiolak/Battleship_C/blob/main/Algo_2a2.ipynb\" target=\"_parent\"><img src=\"https://colab.research.google.com/assets/colab-badge.svg\" alt=\"Open In Colab\"/></a>"
      ]
    },
    {
      "cell_type": "code",
      "execution_count": null,
      "metadata": {
        "id": "Uks-gVhc8UaG"
      },
      "outputs": [],
      "source": [
        "def rechDoublons(tab):\n",
        "  for i in range(len(tab)):\n",
        "    for j in range(len(tab)):\n",
        "      if tab[i]==tab[j] and i!=j : return True\n",
        "  return False\n"
      ]
    },
    {
      "cell_type": "code",
      "source": [
        "def rechDoublons(tab):\n",
        "  for i in range(len(tab)):\n",
        "    for j in range(i+1, len(tab)):\n",
        "      if tab[i]==tab[j]  : return True\n",
        "  return False"
      ],
      "metadata": {
        "id": "gnB4sCKmG7ka"
      },
      "execution_count": null,
      "outputs": []
    },
    {
      "cell_type": "code",
      "source": [
        "tab = [3, 7, 4, 7]\n",
        "print(rechDoublons(tab))\n",
        "tab = [3, 7, 4, 17]\n",
        "print(rechDoublons(tab))"
      ],
      "metadata": {
        "colab": {
          "base_uri": "https://localhost:8080/"
        },
        "id": "joFkHpl-GwE1",
        "outputId": "c08f6d08-f206-4cc7-89b1-19d793778742"
      },
      "execution_count": null,
      "outputs": [
        {
          "output_type": "stream",
          "name": "stdout",
          "text": [
            "True\n",
            "False\n"
          ]
        }
      ]
    },
    {
      "cell_type": "code",
      "source": [
        "def rechDoublonsVoisins(tab):\n",
        "  for i in range(len(tab)-1):\n",
        "    if tab [i]==tab[i+1] : return True\n",
        "  return False\n"
      ],
      "metadata": {
        "id": "gIirnvQ7Hid5"
      },
      "execution_count": null,
      "outputs": []
    },
    {
      "cell_type": "code",
      "source": [
        "def rechDoublonsVoisins(tab):\n",
        "  for i in range(1, len(tab)):\n",
        "    if tab [i]==tab[i-1] : return True\n",
        "  return False"
      ],
      "metadata": {
        "id": "5EBZ4mE1JUy6"
      },
      "execution_count": null,
      "outputs": []
    },
    {
      "cell_type": "code",
      "source": [
        "tab = [3, 7, 7, 4]\n",
        "print(rechDoublonsVoisins(tab))\n",
        "tab = [3,4, 7, 4, 17]\n",
        "print(rechDoublonsVoisins(tab))"
      ],
      "metadata": {
        "colab": {
          "base_uri": "https://localhost:8080/"
        },
        "id": "4r2TvVSzGv9f",
        "outputId": "aef64534-7bf2-42db-865f-8aa0b6b9ede1"
      },
      "execution_count": null,
      "outputs": [
        {
          "output_type": "stream",
          "name": "stdout",
          "text": [
            "True\n",
            "False\n"
          ]
        }
      ]
    },
    {
      "cell_type": "markdown",
      "source": [
        "Timing des doublons et doublonsVoisins"
      ],
      "metadata": {
        "id": "5dNvxEwvLd9Q"
      }
    },
    {
      "cell_type": "code",
      "source": [
        "def tabRange(n):\n",
        "  res=[]\n",
        "  for i in range(n):\n",
        "    res.add(i)\n",
        "  return res"
      ],
      "metadata": {
        "id": "4zl42Wu5LimD"
      },
      "execution_count": null,
      "outputs": []
    },
    {
      "cell_type": "code",
      "source": [
        "def tabRange(n):\n",
        "  return [i for i in range(n)]"
      ],
      "metadata": {
        "id": "zVCLATonLyqD"
      },
      "execution_count": null,
      "outputs": []
    },
    {
      "cell_type": "code",
      "source": [
        "def tabRange(n):\n",
        "  return list(range(n))"
      ],
      "metadata": {
        "id": "1rkPpUxwMCPj"
      },
      "execution_count": null,
      "outputs": []
    },
    {
      "cell_type": "code",
      "source": [
        "print(tabRange(24))"
      ],
      "metadata": {
        "colab": {
          "base_uri": "https://localhost:8080/"
        },
        "id": "vcCcYWJ4OgJw",
        "outputId": "40f9ca8b-4071-461d-fa0a-ff5e046ecc69"
      },
      "execution_count": null,
      "outputs": [
        {
          "output_type": "stream",
          "name": "stdout",
          "text": [
            "[0, 1, 2, 3, 4, 5, 6, 7, 8, 9, 10, 11, 12, 13, 14, 15, 16, 17, 18, 19, 20, 21, 22, 23]\n"
          ]
        }
      ]
    },
    {
      "cell_type": "code",
      "source": [
        "import time\n",
        "for taille in [100, 1000, 10000]:\n",
        "  tab = tabRange(taille)\n",
        "  start =time.time()\n",
        "  rechDoublons(tab)\n",
        "  end = time.time()\n",
        "  print(\"exec en \", end-start, \" sec\")"
      ],
      "metadata": {
        "colab": {
          "base_uri": "https://localhost:8080/"
        },
        "id": "OKrqmBr7Mppz",
        "outputId": "3d72f8a4-4c4e-42b8-dd7f-7d9896b53cda"
      },
      "execution_count": null,
      "outputs": [
        {
          "output_type": "stream",
          "name": "stdout",
          "text": [
            "exec en  0.0008246898651123047  sec\n",
            "exec en  0.08897018432617188  sec\n",
            "exec en  9.94842267036438  sec\n"
          ]
        }
      ]
    },
    {
      "cell_type": "code",
      "source": [
        "import time\n",
        "tab = tabRange(100)\n",
        "start =time.time()\n",
        "rechDoublonsVoisins(tab)\n",
        "end = time.time()\n",
        "print(\"exec en \", end-start, \" sec\")"
      ],
      "metadata": {
        "colab": {
          "base_uri": "https://localhost:8080/"
        },
        "id": "NdpWqijAOpss",
        "outputId": "94049a7f-b7a8-4bc6-84bd-620f08601803"
      },
      "execution_count": null,
      "outputs": [
        {
          "output_type": "stream",
          "name": "stdout",
          "text": [
            "exec en  0.00011444091796875  sec\n"
          ]
        }
      ]
    },
    {
      "cell_type": "code",
      "source": [
        "for f in [rechDoublons, rechDoublonsVoisins]:\n",
        "  print(\"timing de \", f)\n",
        "  for taille in [100, 1000, 10000]:\n",
        "    tab = tabRange(taille)\n",
        "    start =time.time()\n",
        "    f(tab)\n",
        "    end = time.time()\n",
        "    print(\"exec en \", end-start, \" sec\")"
      ],
      "metadata": {
        "colab": {
          "base_uri": "https://localhost:8080/"
        },
        "id": "K6_uqkuBPV3A",
        "outputId": "f8a7faba-8999-40cc-adc8-84d309d20ed2"
      },
      "execution_count": null,
      "outputs": [
        {
          "output_type": "stream",
          "name": "stdout",
          "text": [
            "timing de  <function rechDoublons at 0x7b2192a984c0>\n",
            "exec en  0.001260519027709961  sec\n",
            "exec en  0.16407394409179688  sec\n",
            "exec en  9.236254692077637  sec\n",
            "timing de  <function rechDoublonsVoisins at 0x7b215f4031c0>\n",
            "exec en  1.430511474609375e-05  sec\n",
            "exec en  0.00012350082397460938  sec\n",
            "exec en  0.0011513233184814453  sec\n"
          ]
        }
      ]
    },
    {
      "cell_type": "markdown",
      "source": [
        "Fonctions de recherche"
      ],
      "metadata": {
        "id": "3-M5UYVyQzQ7"
      }
    },
    {
      "cell_type": "code",
      "source": [
        "def rechSimple(tab, val):\n"
      ],
      "metadata": {
        "id": "2ib0fVjKQ1Zv"
      },
      "execution_count": null,
      "outputs": []
    },
    {
      "cell_type": "code",
      "source": [
        "def rechDicho(tab,val):\n",
        "  g=0\n",
        "  d=len(tab)-1\n",
        "  while ?\n",
        "\n"
      ],
      "metadata": {
        "id": "TN6jKR0MQ4Xv"
      },
      "execution_count": null,
      "outputs": []
    },
    {
      "cell_type": "code",
      "source": [],
      "metadata": {
        "id": "UqP6IzjmQysu"
      },
      "execution_count": null,
      "outputs": []
    }
  ]
}